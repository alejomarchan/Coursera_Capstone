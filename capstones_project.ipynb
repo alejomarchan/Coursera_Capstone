{
 "cells": [
  {
   "cell_type": "code",
   "execution_count": 1,
   "metadata": {},
   "outputs": [
    {
     "name": "stdout",
     "output_type": "stream",
     "text": [
      "Requirement already satisfied: folium in /home/jupyterlab/conda/envs/python/lib/python3.6/site-packages (0.5.0)\n",
      "Requirement already satisfied: requests in /home/jupyterlab/conda/envs/python/lib/python3.6/site-packages (from folium) (2.25.0)\n",
      "Requirement already satisfied: six in /home/jupyterlab/conda/envs/python/lib/python3.6/site-packages (from folium) (1.15.0)\n",
      "Requirement already satisfied: branca in /home/jupyterlab/conda/envs/python/lib/python3.6/site-packages (from folium) (0.4.1)\n",
      "Requirement already satisfied: jinja2 in /home/jupyterlab/conda/envs/python/lib/python3.6/site-packages (from folium) (2.11.2)\n",
      "Requirement already satisfied: chardet<4,>=3.0.2 in /home/jupyterlab/conda/envs/python/lib/python3.6/site-packages (from requests->folium) (3.0.4)\n",
      "Requirement already satisfied: urllib3<1.27,>=1.21.1 in /home/jupyterlab/conda/envs/python/lib/python3.6/site-packages (from requests->folium) (1.25.11)\n",
      "Requirement already satisfied: certifi>=2017.4.17 in /home/jupyterlab/conda/envs/python/lib/python3.6/site-packages (from requests->folium) (2020.12.5)\n",
      "Requirement already satisfied: idna<3,>=2.5 in /home/jupyterlab/conda/envs/python/lib/python3.6/site-packages (from requests->folium) (2.10)\n",
      "Requirement already satisfied: MarkupSafe>=0.23 in /home/jupyterlab/conda/envs/python/lib/python3.6/site-packages (from jinja2->folium) (1.1.1)\n"
     ]
    }
   ],
   "source": [
    "import requests # library to handle requests\n",
    "import pandas as pd # library for data analsysis\n",
    "import numpy as np\n",
    "!pip install folium\n",
    "import folium "
   ]
  },
  {
   "cell_type": "code",
   "execution_count": 2,
   "metadata": {},
   "outputs": [
    {
     "name": "stdout",
     "output_type": "stream",
     "text": [
      "Your credentails:\n",
      "CLIENT_ID: P3HLOM5PHAPW5PN0N0APJ4FBSHRV4UQGAKJ3XAV2WFMYBRTP\n",
      "CLIENT_SECRET:QGJ2V015IZMLA4A4GAHTPSWNMDJFKRT5LXT1R3THBZPTYITJ\n"
     ]
    }
   ],
   "source": [
    "CLIENT_ID = 'P3HLOM5PHAPW5PN0N0APJ4FBSHRV4UQGAKJ3XAV2WFMYBRTP'\n",
    "CLIENT_SECRET = 'QGJ2V015IZMLA4A4GAHTPSWNMDJFKRT5LXT1R3THBZPTYITJ'\n",
    "VERSION = '20180604'\n",
    "LIMIT = 40\n",
    "print('Your credentails:')\n",
    "print('CLIENT_ID: ' + CLIENT_ID)\n",
    "print('CLIENT_SECRET:' + CLIENT_SECRET)"
   ]
  },
  {
   "cell_type": "code",
   "execution_count": 3,
   "metadata": {},
   "outputs": [],
   "source": [
    "import requests\n",
    "\n",
    "request_parameters = {\n",
    "    \"client_id\": CLIENT_ID,\n",
    "    \"client_secret\": CLIENT_SECRET,\n",
    "    \"v\": '20180605',\n",
    "    \"section\": \"coffee\",\n",
    "    \"near\": \"Da Nang\",\n",
    "    \"radius\": 1000,\n",
    "    \"limit\": 50}\n",
    "\n",
    "data = requests.get(\"https://api.foursquare.com/v2/venues/explore\", params=request_parameters)"
   ]
  },
  {
   "cell_type": "code",
   "execution_count": 4,
   "metadata": {},
   "outputs": [
    {
     "data": {
      "text/plain": [
       "dict_keys(['geocode', 'headerLocation', 'headerFullLocation', 'headerLocationGranularity', 'query', 'totalResults', 'suggestedBounds', 'groups'])"
      ]
     },
     "execution_count": 4,
     "metadata": {},
     "output_type": "execute_result"
    }
   ],
   "source": [
    "d = data.json()[\"response\"]\n",
    "d.keys()"
   ]
  },
  {
   "cell_type": "code",
   "execution_count": 6,
   "metadata": {},
   "outputs": [
    {
     "data": {
      "text/plain": [
       "('city', 'Da Nang', 'Da Nang')"
      ]
     },
     "execution_count": 6,
     "metadata": {},
     "output_type": "execute_result"
    }
   ],
   "source": [
    "d[\"headerLocationGranularity\"], d[\"headerLocation\"], d[\"headerFullLocation\"]"
   ]
  },
  {
   "cell_type": "code",
   "execution_count": 7,
   "metadata": {},
   "outputs": [
    {
     "data": {
      "text/plain": [
       "({'ne': {'lat': 16.076998694185527, 'lng': 108.22982675100442},\n",
       "  'sw': {'lat': 16.058704646522436, 'lng': 108.21333222890732}},\n",
       " 42)"
      ]
     },
     "execution_count": 7,
     "metadata": {},
     "output_type": "execute_result"
    }
   ],
   "source": [
    "d[\"suggestedBounds\"], d[\"totalResults\"]"
   ]
  },
  {
   "cell_type": "code",
   "execution_count": 8,
   "metadata": {},
   "outputs": [
    {
     "data": {
      "text/plain": [
       "{'what': '',\n",
       " 'where': 'da nang',\n",
       " 'center': {'lat': 16.06778, 'lng': 108.22083},\n",
       " 'displayString': 'Da Nang, Thành Phố Đà Nẵng, Vietnam',\n",
       " 'cc': 'VN',\n",
       " 'geometry': {'bounds': {'ne': {'lat': 16.11072, 'lng': 108.276871},\n",
       "   'sw': {'lat': 15.982205, 'lng': 108.141861}}},\n",
       " 'slug': 'turan-vietnam',\n",
       " 'longId': '72057594039511928'}"
      ]
     },
     "execution_count": 8,
     "metadata": {},
     "output_type": "execute_result"
    }
   ],
   "source": [
    "d[\"geocode\"]"
   ]
  },
  {
   "cell_type": "code",
   "execution_count": 9,
   "metadata": {},
   "outputs": [
    {
     "data": {
      "text/plain": [
       "dict_keys(['type', 'name', 'items'])"
      ]
     },
     "execution_count": 9,
     "metadata": {},
     "output_type": "execute_result"
    }
   ],
   "source": [
    "d[\"groups\"][0].keys()"
   ]
  },
  {
   "cell_type": "code",
   "execution_count": 10,
   "metadata": {},
   "outputs": [
    {
     "data": {
      "text/plain": [
       "('Recommended Places', 'recommended')"
      ]
     },
     "execution_count": 10,
     "metadata": {},
     "output_type": "execute_result"
    }
   ],
   "source": [
    "d[\"groups\"][0][\"type\"], d[\"groups\"][0][\"name\"]"
   ]
  },
  {
   "cell_type": "code",
   "execution_count": 11,
   "metadata": {},
   "outputs": [
    {
     "name": "stdout",
     "output_type": "stream",
     "text": [
      "number of items: 42\n"
     ]
    },
    {
     "data": {
      "text/plain": [
       "{'reasons': {'count': 0,\n",
       "  'items': [{'summary': 'This spot is popular',\n",
       "    'type': 'general',\n",
       "    'reasonName': 'globalInteractionReason'}]},\n",
       " 'venue': {'id': '5a26a41a31ac6c676705e94c',\n",
       "  'name': 'cộng cà phê',\n",
       "  'location': {'address': '39',\n",
       "   'crossStreet': 'Nguyễn Thái Học',\n",
       "   'lat': 16.068062879455486,\n",
       "   'lng': 108.22351222071603,\n",
       "   'labeledLatLngs': [{'label': 'display',\n",
       "     'lat': 16.068062879455486,\n",
       "     'lng': 108.22351222071603}],\n",
       "   'postalCode': '551105',\n",
       "   'cc': 'VN',\n",
       "   'city': 'Đà Nẵng',\n",
       "   'state': 'Thành Phố Đà Nẵng',\n",
       "   'country': 'Việt Nam',\n",
       "   'formattedAddress': ['39 (Nguyễn Thái Học)',\n",
       "    'Đà Nẵng',\n",
       "    'Thành Phố Đà Nẵng',\n",
       "    'Việt Nam']},\n",
       "  'categories': [{'id': '4bf58dd8d48988d1e0931735',\n",
       "    'name': 'Coffee Shop',\n",
       "    'pluralName': 'Coffee Shops',\n",
       "    'shortName': 'Coffee Shop',\n",
       "    'icon': {'prefix': 'https://ss3.4sqi.net/img/categories_v2/food/coffeeshop_',\n",
       "     'suffix': '.png'},\n",
       "    'primary': True}],\n",
       "  'photos': {'count': 0, 'groups': []}},\n",
       " 'referralId': 'e-5-5a26a41a31ac6c676705e94c-0'}"
      ]
     },
     "execution_count": 11,
     "metadata": {},
     "output_type": "execute_result"
    }
   ],
   "source": [
    "items = d[\"groups\"][0][\"items\"]\n",
    "print(\"number of items: %i\" % len(items))\n",
    "items[0]"
   ]
  },
  {
   "cell_type": "code",
   "execution_count": 12,
   "metadata": {},
   "outputs": [
    {
     "name": "stdout",
     "output_type": "stream",
     "text": [
      "{'address': '39', 'crossStreet': 'Nguyễn Thái Học', 'lat': 16.068062879455486, 'lng': 108.22351222071603, 'labeledLatLngs': [{'label': 'display', 'lat': 16.068062879455486, 'lng': 108.22351222071603}], 'postalCode': '551105', 'cc': 'VN', 'city': 'Đà Nẵng', 'state': 'Thành Phố Đà Nẵng', 'country': 'Việt Nam', 'formattedAddress': ['39 (Nguyễn Thái Học)', 'Đà Nẵng', 'Thành Phố Đà Nẵng', 'Việt Nam']}\n",
      "{'address': '17 Phan Đình Phùng', 'lat': 16.070069923328905, 'lng': 108.2234060288238, 'labeledLatLngs': [{'label': 'display', 'lat': 16.070069923328905, 'lng': 108.2234060288238}], 'cc': 'VN', 'city': 'Hải Châu', 'state': 'Thành Phố Đà Nẵng', 'country': 'Việt Nam', 'formattedAddress': ['17 Phan Đình Phùng', 'Hải Châu', 'Thành Phố Đà Nẵng', 'Việt Nam']}\n",
      "{'address': '37-39 Pasteur', 'lat': 16.069698707615007, 'lng': 108.21804495108044, 'labeledLatLngs': [{'label': 'display', 'lat': 16.069698707615007, 'lng': 108.21804495108044}], 'cc': 'VN', 'city': 'Đà Nẵng', 'state': 'Thành Phố Đà Nẵng', 'country': 'Việt Nam', 'formattedAddress': ['37-39 Pasteur', 'Đà Nẵng', 'Thành Phố Đà Nẵng', 'Việt Nam']}\n",
      "{'address': '96-98 Bạch Đằng', 'lat': 16.069014884488677, 'lng': 108.22497088340684, 'labeledLatLngs': [{'label': 'display', 'lat': 16.069014884488677, 'lng': 108.22497088340684}], 'cc': 'VN', 'city': 'Đà Nẵng', 'state': 'Thành Phố Đà Nẵng', 'country': 'Việt Nam', 'formattedAddress': ['96-98 Bạch Đằng', 'Đà Nẵng', 'Thành Phố Đà Nẵng', 'Việt Nam']}\n",
      "{'address': '186 Bach Dang', 'crossStreet': 'Tran Quoc Toan', 'lat': 16.06608485359888, 'lng': 108.2243266366388, 'labeledLatLngs': [{'label': 'display', 'lat': 16.06608485359888, 'lng': 108.2243266366388}], 'cc': 'VN', 'city': 'Đà Nẵng', 'state': 'Thành Phố Đà Nẵng', 'country': 'Việt Nam', 'formattedAddress': ['186 Bach Dang (Tran Quoc Toan)', 'Đà Nẵng', 'Thành Phố Đà Nẵng', 'Việt Nam']}\n",
      "{'address': '58', 'crossStreet': 'Hoàng Văn Thụ. Hải Châu', 'lat': 16.06328567930564, 'lng': 108.22068421206521, 'labeledLatLngs': [{'label': 'display', 'lat': 16.06328567930564, 'lng': 108.22068421206521}], 'cc': 'VN', 'neighborhood': 'Hải Châu', 'city': 'Đà Nẵng', 'state': 'Thành Phố Đà Nẵng', 'country': 'Việt Nam', 'formattedAddress': ['58 (Hoàng Văn Thụ. Hải Châu)', 'Đà Nẵng', 'Thành Phố Đà Nẵng', 'Việt Nam']}\n",
      "{'address': '134 Phan Chau Trinh', 'lat': 16.063847858621482, 'lng': 108.21989220791667, 'labeledLatLngs': [{'label': 'display', 'lat': 16.063847858621482, 'lng': 108.21989220791667}], 'cc': 'VN', 'city': 'Đà Nẵng', 'state': 'Thành Phố Đà Nẵng', 'country': 'Việt Nam', 'formattedAddress': ['134 Phan Chau Trinh', 'Đà Nẵng', 'Thành Phố Đà Nẵng', 'Việt Nam']}\n",
      "{'lat': 16.066373, 'lng': 108.220971, 'labeledLatLngs': [{'label': 'display', 'lat': 16.066373, 'lng': 108.220971}], 'cc': 'VN', 'country': 'Việt Nam', 'formattedAddress': ['Việt Nam']}\n",
      "{'address': '9 Quang Trung', 'crossStreet': 'Tran Phu', 'lat': 16.07534538869973, 'lng': 108.22224273760446, 'labeledLatLngs': [{'label': 'display', 'lat': 16.07534538869973, 'lng': 108.22224273760446}], 'cc': 'VN', 'city': 'Đà Nẵng', 'state': 'Thành Phố Đà Nẵng', 'country': 'Việt Nam', 'formattedAddress': ['9 Quang Trung (Tran Phu)', 'Đà Nẵng', 'Thành Phố Đà Nẵng', 'Việt Nam']}\n",
      "{'address': '146 Bach Dang St', 'lat': 16.06702, 'lng': 108.22479, 'labeledLatLngs': [{'label': 'display', 'lat': 16.06702, 'lng': 108.22479}], 'postalCode': '550000', 'cc': 'VN', 'city': 'Hải Châu 1', 'state': 'Thành Phố Đà Nẵng', 'country': 'Việt Nam', 'formattedAddress': ['146 Bach Dang St', 'Hải Châu 1', 'Thành Phố Đà Nẵng', 'Việt Nam']}\n",
      "{'address': '79 Le Hong Phong', 'lat': 16.064163367156592, 'lng': 108.21928138013452, 'labeledLatLngs': [{'label': 'display', 'lat': 16.064163367156592, 'lng': 108.21928138013452}], 'cc': 'VN', 'city': 'Đà Nẵng', 'state': 'Thành Phố Đà Nẵng', 'country': 'Việt Nam', 'formattedAddress': ['79 Le Hong Phong', 'Đà Nẵng', 'Thành Phố Đà Nẵng', 'Việt Nam']}\n",
      "{'address': 'Lô A4 - 2 Nguyễn Văn Linh', 'lat': 16.06079455709096, 'lng': 108.22346985340118, 'labeledLatLngs': [{'label': 'display', 'lat': 16.06079455709096, 'lng': 108.22346985340118}], 'cc': 'VN', 'city': 'Đà Nẵng', 'state': 'Thành Phố Đà Nẵng', 'country': 'Việt Nam', 'formattedAddress': ['Lô A4 - 2 Nguyễn Văn Linh', 'Đà Nẵng', 'Thành Phố Đà Nẵng', 'Việt Nam']}\n",
      "{'address': '180A Bach Dang Street, Hai Chau 1 Ward, Hai Chau District', 'crossStreet': 'Tran Quoc Toan', 'lat': 16.066268104610995, 'lng': 108.22449579896868, 'labeledLatLngs': [{'label': 'display', 'lat': 16.066268104610995, 'lng': 108.22449579896868}], 'postalCode': '550000', 'cc': 'VN', 'city': 'Đà Nẵng', 'state': 'Thành Phố Đà Nẵng', 'country': 'Việt Nam', 'formattedAddress': ['180A Bach Dang Street, Hai Chau 1 Ward, Hai Chau District (Tran Quoc Toan)', 'Đà Nẵng', 'Thành Phố Đà Nẵng', 'Việt Nam']}\n",
      "{'address': '101 Trrần Phú', 'lat': 16.06909601096204, 'lng': 108.22396568330407, 'labeledLatLngs': [{'label': 'display', 'lat': 16.06909601096204, 'lng': 108.22396568330407}], 'cc': 'VN', 'city': 'Đà Nẵng', 'state': 'Thành Phố Đà Nẵng', 'country': 'Việt Nam', 'formattedAddress': ['101 Trrần Phú', 'Đà Nẵng', 'Thành Phố Đà Nẵng', 'Việt Nam']}\n",
      "{'address': '1 Nguyen Van Linh', 'lat': 16.06064813996494, 'lng': 108.2169811846068, 'labeledLatLngs': [{'label': 'display', 'lat': 16.06064813996494, 'lng': 108.2169811846068}], 'cc': 'VN', 'city': 'Đà Nẵng', 'state': 'Thành Phố Đà Nẵng', 'country': 'Việt Nam', 'formattedAddress': ['1 Nguyen Van Linh', 'Đà Nẵng', 'Thành Phố Đà Nẵng', 'Việt Nam']}\n",
      "{'address': 'Le Loi', 'crossStreet': 'Le Loi', 'lat': 16.072559472418, 'lng': 108.22037004752178, 'labeledLatLngs': [{'label': 'display', 'lat': 16.072559472418, 'lng': 108.22037004752178}], 'cc': 'VN', 'country': 'Việt Nam', 'formattedAddress': ['Le Loi (Le Loi)', 'Việt Nam']}\n",
      "{'address': '32 Cô Giang, Phước Ninh, Hải Châu, Da Nang', 'lat': 16.06163998148517, 'lng': 108.22152256965637, 'labeledLatLngs': [{'label': 'display', 'lat': 16.06163998148517, 'lng': 108.22152256965637}], 'cc': 'VN', 'state': 'Thành Phố Đà Nẵng', 'country': 'Việt Nam', 'formattedAddress': ['32 Cô Giang, Phước Ninh, Hải Châu, Da Nang', 'Thành Phố Đà Nẵng', 'Việt Nam']}\n",
      "{'address': 'Lê Đình Dương, Hải Châu, Da Nang', 'lat': 16.061322248017326, 'lng': 108.21981112190863, 'labeledLatLngs': [{'label': 'display', 'lat': 16.061322248017326, 'lng': 108.21981112190863}], 'cc': 'VN', 'city': 'Đà Nẵng', 'state': 'Thành Phố Đà Nẵng', 'country': 'Việt Nam', 'formattedAddress': ['Lê Đình Dương, Hải Châu, Da Nang', 'Đà Nẵng', 'Thành Phố Đà Nẵng', 'Việt Nam']}\n",
      "{'address': '88', 'crossStreet': 'Nguyễn Chí Thanh', 'lat': 16.07085130717108, 'lng': 108.22122981692984, 'labeledLatLngs': [{'label': 'display', 'lat': 16.07085130717108, 'lng': 108.22122981692984}], 'postalCode': '550000', 'cc': 'VN', 'city': 'Đà Nẵng', 'state': 'Thành Phố Đà Nẵng', 'country': 'Việt Nam', 'formattedAddress': ['88 (Nguyễn Chí Thanh)', 'Đà Nẵng', 'Thành Phố Đà Nẵng', 'Việt Nam']}\n",
      "{'address': '74 Bach Dang', 'crossStreet': 'Phan Dinh Phung', 'lat': 16.0699462321021, 'lng': 108.22496141517442, 'labeledLatLngs': [{'label': 'display', 'lat': 16.0699462321021, 'lng': 108.22496141517442}], 'postalCode': '60999', 'cc': 'VN', 'city': 'Dà Nang City', 'state': 'Da Nang', 'country': 'Việt Nam', 'formattedAddress': ['74 Bach Dang (Phan Dinh Phung)', 'Dà Nang City', 'Da Nang', 'Việt Nam']}\n",
      "{'address': 'Quang Trung', 'lat': 16.07486200847801, 'lng': 108.22006134589006, 'labeledLatLngs': [{'label': 'display', 'lat': 16.07486200847801, 'lng': 108.22006134589006}], 'cc': 'VN', 'state': 'Da Nang', 'country': 'Việt Nam', 'formattedAddress': ['Quang Trung', 'Da Nang', 'Việt Nam']}\n",
      "{'address': '50 Bạch Đằng', 'lat': 16.073066369057457, 'lng': 108.22466120300325, 'labeledLatLngs': [{'label': 'display', 'lat': 16.073066369057457, 'lng': 108.22466120300325}], 'cc': 'VN', 'city': 'Đà Nẵng', 'state': 'Thành Phố Đà Nẵng', 'country': 'Việt Nam', 'formattedAddress': ['50 Bạch Đằng', 'Đà Nẵng', 'Thành Phố Đà Nẵng', 'Việt Nam']}\n",
      "{'address': 'Ông Ích Khiêm', 'crossStreet': 'Hung Vuong', 'lat': 16.066948386992838, 'lng': 108.21408197991173, 'labeledLatLngs': [{'label': 'display', 'lat': 16.066948386992838, 'lng': 108.21408197991173}], 'cc': 'VN', 'city': 'Dà Nang', 'state': 'Da Nang', 'country': 'Việt Nam', 'formattedAddress': ['Ông Ích Khiêm (Hung Vuong)', 'Dà Nang', 'Da Nang', 'Việt Nam']}\n",
      "{'lat': 16.066089566173254, 'lng': 108.2193419818349, 'labeledLatLngs': [{'label': 'display', 'lat': 16.066089566173254, 'lng': 108.2193419818349}], 'cc': 'VN', 'country': 'Việt Nam', 'formattedAddress': ['Việt Nam']}\n",
      "{'lat': 16.069305019831315, 'lng': 108.22490799642499, 'labeledLatLngs': [{'label': 'display', 'lat': 16.069305019831315, 'lng': 108.22490799642499}], 'cc': 'VN', 'country': 'Việt Nam', 'formattedAddress': ['Việt Nam']}\n",
      "{'address': '91', 'crossStreet': 'Lê Hồng Phong', 'lat': 16.064031894461532, 'lng': 108.21869015693665, 'labeledLatLngs': [{'label': 'display', 'lat': 16.064031894461532, 'lng': 108.21869015693665}], 'postalCode': '0511', 'cc': 'VN', 'city': 'Đà Nẵng', 'state': 'Thành Phố Đà Nẵng', 'country': 'Việt Nam', 'formattedAddress': ['91 (Lê Hồng Phong)', 'Đà Nẵng', 'Thành Phố Đà Nẵng', 'Việt Nam']}\n",
      "{'address': 'Le Hong Phong - Da Nang', 'lat': 16.06367059719038, 'lng': 108.22347738827133, 'labeledLatLngs': [{'label': 'display', 'lat': 16.06367059719038, 'lng': 108.22347738827133}], 'cc': 'VN', 'country': 'Việt Nam', 'formattedAddress': ['Le Hong Phong - Da Nang', 'Việt Nam']}\n",
      "{'address': '223 Trần Phú, phường Phước Ninh, quận Hải Châu', 'lat': 16.063622075206023, 'lng': 108.22350606322289, 'labeledLatLngs': [{'label': 'display', 'lat': 16.063622075206023, 'lng': 108.22350606322289}], 'cc': 'VN', 'city': 'Đà Nẵng', 'state': 'Thành Phố Đà Nẵng', 'country': 'Việt Nam', 'formattedAddress': ['223 Trần Phú, phường Phước Ninh, quận Hải Châu', 'Đà Nẵng', 'Thành Phố Đà Nẵng', 'Việt Nam']}\n",
      "{'lat': 16.063578, 'lng': 108.223824, 'labeledLatLngs': [{'label': 'display', 'lat': 16.063578, 'lng': 108.223824}], 'cc': 'VN', 'country': 'Việt Nam', 'formattedAddress': ['Việt Nam']}\n",
      "{'address': 'Bach Dang', 'crossStreet': 'under Han River Bridge', 'lat': 16.072871723022736, 'lng': 108.2251196519525, 'labeledLatLngs': [{'label': 'display', 'lat': 16.072871723022736, 'lng': 108.2251196519525}], 'cc': 'VN', 'city': 'Đà Nẵng', 'state': 'Thành Phố Đà Nẵng', 'country': 'Việt Nam', 'formattedAddress': ['Bach Dang (under Han River Bridge)', 'Đà Nẵng', 'Thành Phố Đà Nẵng', 'Việt Nam']}\n",
      "{'address': '254 Tran Phu', 'lat': 16.062591, 'lng': 108.223215, 'labeledLatLngs': [{'label': 'display', 'lat': 16.062591, 'lng': 108.223215}], 'cc': 'VN', 'city': 'Da Nang', 'state': 'Hai Chau', 'country': 'Việt Nam', 'formattedAddress': ['254 Tran Phu', 'Da Nang', 'Hai Chau', 'Việt Nam']}\n",
      "{'address': '143 Le Loi', 'lat': 16.073552306534197, 'lng': 108.219980167977, 'labeledLatLngs': [{'label': 'display', 'lat': 16.073552306534197, 'lng': 108.219980167977}], 'cc': 'VN', 'country': 'Việt Nam', 'formattedAddress': ['143 Le Loi', 'Việt Nam']}\n",
      "{'address': '156 Le Dinh Duong', 'crossStreet': 'Trieu Nu Vuong', 'lat': 16.062463396498668, 'lng': 108.21678225824697, 'labeledLatLngs': [{'label': 'display', 'lat': 16.062463396498668, 'lng': 108.21678225824697}], 'cc': 'VN', 'city': 'Đà Nẵng', 'state': 'Thành Phố Đà Nẵng', 'country': 'Việt Nam', 'formattedAddress': ['156 Le Dinh Duong (Trieu Nu Vuong)', 'Đà Nẵng', 'Thành Phố Đà Nẵng', 'Việt Nam']}\n",
      "{'lat': 16.061075, 'lng': 108.22282, 'labeledLatLngs': [{'label': 'display', 'lat': 16.061075, 'lng': 108.22282}], 'cc': 'VN', 'country': 'Việt Nam', 'formattedAddress': ['Việt Nam']}\n",
      "{'lat': 16.060794905109915, 'lng': 108.22040768373152, 'labeledLatLngs': [{'label': 'display', 'lat': 16.060794905109915, 'lng': 108.22040768373152}], 'cc': 'VN', 'country': 'Việt Nam', 'formattedAddress': ['Việt Nam']}\n",
      "{'lat': 16.07550910076423, 'lng': 108.21971266035493, 'labeledLatLngs': [{'label': 'display', 'lat': 16.07550910076423, 'lng': 108.21971266035493}], 'cc': 'VN', 'country': 'Việt Nam', 'formattedAddress': ['Việt Nam']}\n",
      "{'address': '109 Le Loi', 'lat': 16.075608142628063, 'lng': 108.21978263867429, 'labeledLatLngs': [{'label': 'display', 'lat': 16.075608142628063, 'lng': 108.21978263867429}], 'postalCode': 'Viet Nam', 'cc': 'VN', 'city': 'Hai Chau', 'state': 'Da Nang', 'country': 'Việt Nam', 'formattedAddress': ['109 Le Loi', 'Hai Chau', 'Da Nang', 'Việt Nam']}\n",
      "{'address': 'Nguyễn Văn Linh', 'lat': 16.060564393091386, 'lng': 108.2170831688409, 'labeledLatLngs': [{'label': 'display', 'lat': 16.060564393091386, 'lng': 108.2170831688409}], 'cc': 'VN', 'city': 'Đà Nẵng', 'state': 'Thành Phố Đà Nẵng', 'country': 'Việt Nam', 'formattedAddress': ['Nguyễn Văn Linh', 'Đà Nẵng', 'Thành Phố Đà Nẵng', 'Việt Nam']}\n",
      "{'lat': 16.06051, 'lng': 108.21709, 'labeledLatLngs': [{'label': 'display', 'lat': 16.06051, 'lng': 108.21709}], 'cc': 'VN', 'country': 'Việt Nam', 'formattedAddress': ['Việt Nam']}\n",
      "{'address': '29 Trưng Nữ Vương', 'lat': 16.059536194143487, 'lng': 108.22198886750742, 'labeledLatLngs': [{'label': 'display', 'lat': 16.059536194143487, 'lng': 108.22198886750742}], 'cc': 'VN', 'city': 'Đà Nẵng', 'state': 'Thành Phố Đà Nẵng', 'country': 'Việt Nam', 'formattedAddress': ['29 Trưng Nữ Vương', 'Đà Nẵng', 'Thành Phố Đà Nẵng', 'Việt Nam']}\n",
      "{'address': '69 Nguyễn Chí Thanh', 'lat': 16.07616714656448, 'lng': 108.22046560241405, 'labeledLatLngs': [{'label': 'display', 'lat': 16.07616714656448, 'lng': 108.22046560241405}], 'cc': 'VN', 'city': 'Đà Nẵng', 'state': 'Thành Phố Đà Nẵng', 'country': 'Việt Nam', 'formattedAddress': ['69 Nguyễn Chí Thanh', 'Đà Nẵng', 'Thành Phố Đà Nẵng', 'Việt Nam']}\n",
      "{'address': '339 Tran Hung Dao', 'lat': 16.071583, 'lng': 108.229077, 'labeledLatLngs': [{'label': 'display', 'lat': 16.071583, 'lng': 108.229077}], 'cc': 'VN', 'city': 'Đà Nẵng', 'state': 'Thành Phố Đà Nẵng', 'country': 'Việt Nam', 'formattedAddress': ['339 Tran Hung Dao', 'Đà Nẵng', 'Thành Phố Đà Nẵng', 'Việt Nam']}\n",
      "found 7 cafes\n"
     ]
    },
    {
     "data": {
      "text/html": [
       "<div>\n",
       "<style scoped>\n",
       "    .dataframe tbody tr th:only-of-type {\n",
       "        vertical-align: middle;\n",
       "    }\n",
       "\n",
       "    .dataframe tbody tr th {\n",
       "        vertical-align: top;\n",
       "    }\n",
       "\n",
       "    .dataframe thead th {\n",
       "        text-align: right;\n",
       "    }\n",
       "</style>\n",
       "<table border=\"1\" class=\"dataframe\">\n",
       "  <thead>\n",
       "    <tr style=\"text-align: right;\">\n",
       "      <th></th>\n",
       "      <th>uid</th>\n",
       "      <th>name</th>\n",
       "      <th>shortname</th>\n",
       "      <th>address</th>\n",
       "      <th>postalcode</th>\n",
       "      <th>lat</th>\n",
       "      <th>lng</th>\n",
       "    </tr>\n",
       "  </thead>\n",
       "  <tbody>\n",
       "    <tr>\n",
       "      <th>0</th>\n",
       "      <td>5a26a41a31ac6c676705e94c</td>\n",
       "      <td>cộng cà phê</td>\n",
       "      <td>Coffee Shop</td>\n",
       "      <td></td>\n",
       "      <td>551105</td>\n",
       "      <td>16.068063</td>\n",
       "      <td>108.223512</td>\n",
       "    </tr>\n",
       "    <tr>\n",
       "      <th>1</th>\n",
       "      <td>5627c637498e21ca8f40f4be</td>\n",
       "      <td>Leaf Drinks and More</td>\n",
       "      <td>Coffee Shop</td>\n",
       "      <td></td>\n",
       "      <td>550000</td>\n",
       "      <td>16.067020</td>\n",
       "      <td>108.224790</td>\n",
       "    </tr>\n",
       "    <tr>\n",
       "      <th>2</th>\n",
       "      <td>55ff7cf0498e203b2932d5fd</td>\n",
       "      <td>Namunamu Cafe 180</td>\n",
       "      <td>Café</td>\n",
       "      <td></td>\n",
       "      <td>550000</td>\n",
       "      <td>16.066268</td>\n",
       "      <td>108.224496</td>\n",
       "    </tr>\n",
       "    <tr>\n",
       "      <th>3</th>\n",
       "      <td>51bd1671498e58791c2ea92d</td>\n",
       "      <td>Freeman Coffee</td>\n",
       "      <td>Coffee Shop</td>\n",
       "      <td></td>\n",
       "      <td>550000</td>\n",
       "      <td>16.070851</td>\n",
       "      <td>108.221230</td>\n",
       "    </tr>\n",
       "    <tr>\n",
       "      <th>4</th>\n",
       "      <td>4c25fdd8f1272d7f33ac85c5</td>\n",
       "      <td>Highlands Coffee</td>\n",
       "      <td>Café</td>\n",
       "      <td></td>\n",
       "      <td>60999</td>\n",
       "      <td>16.069946</td>\n",
       "      <td>108.224961</td>\n",
       "    </tr>\n",
       "  </tbody>\n",
       "</table>\n",
       "</div>"
      ],
      "text/plain": [
       "                        uid                  name    shortname address  \\\n",
       "0  5a26a41a31ac6c676705e94c           cộng cà phê  Coffee Shop           \n",
       "1  5627c637498e21ca8f40f4be  Leaf Drinks and More  Coffee Shop           \n",
       "2  55ff7cf0498e203b2932d5fd     Namunamu Cafe 180         Café           \n",
       "3  51bd1671498e58791c2ea92d        Freeman Coffee  Coffee Shop           \n",
       "4  4c25fdd8f1272d7f33ac85c5      Highlands Coffee         Café           \n",
       "\n",
       "  postalcode        lat         lng  \n",
       "0     551105  16.068063  108.223512  \n",
       "1     550000  16.067020  108.224790  \n",
       "2     550000  16.066268  108.224496  \n",
       "3     550000  16.070851  108.221230  \n",
       "4      60999  16.069946  108.224961  "
      ]
     },
     "execution_count": 12,
     "metadata": {},
     "output_type": "execute_result"
    }
   ],
   "source": [
    "df_raw = []\n",
    "for item in items:\n",
    "    venue = item[\"venue\"]\n",
    "    categories, uid, name, location = venue[\"categories\"], venue[\"id\"], venue[\"name\"], venue[\"location\"]\n",
    "    print(location)\n",
    "    assert len(categories) == 1\n",
    "    shortname = categories[0][\"shortName\"]\n",
    "    address =  ''\n",
    "    if hasattr(location, 'address'):\n",
    "      address = location['address']\n",
    "    if not \"postalCode\" in location:\n",
    "        continue\n",
    "    postalcode = location[\"postalCode\"]\n",
    "    lat = location[\"lat\"]\n",
    "    lng = location[\"lng\"]\n",
    "    datarow = (uid, name, shortname, address, postalcode, lat, lng)\n",
    "    df_raw.append(datarow)\n",
    "df = pd.DataFrame(df_raw, columns=[\"uid\", \"name\", \"shortname\", \"address\", \"postalcode\", \"lat\", \"lng\"])\n",
    "print(\"found %i cafes\" % len(df))\n",
    "df.head()"
   ]
  },
  {
   "cell_type": "code",
   "execution_count": 13,
   "metadata": {},
   "outputs": [
    {
     "data": {
      "text/plain": [
       "{'lat': 16.06778, 'lng': 108.22083}"
      ]
     },
     "execution_count": 13,
     "metadata": {},
     "output_type": "execute_result"
    }
   ],
   "source": [
    "DaNang_center = d[\"geocode\"][\"center\"]\n",
    "DaNang_center"
   ]
  },
  {
   "cell_type": "code",
   "execution_count": 14,
   "metadata": {},
   "outputs": [
    {
     "data": {
      "text/html": [
       "<div style=\"width:100%;\"><div style=\"position:relative;width:100%;height:0;padding-bottom:60%;\"><span style=\"color:#565656\">Make this Notebook Trusted to load map: File -> Trust Notebook</span><iframe src=\"about:blank\" style=\"position:absolute;width:100%;height:100%;left:0;top:0;border:none !important;\" data-html=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 onload=\"this.contentDocument.open();this.contentDocument.write(atob(this.getAttribute('data-html')));this.contentDocument.close();\" allowfullscreen webkitallowfullscreen mozallowfullscreen></iframe></div></div>"
      ],
      "text/plain": [
       "<folium.folium.Map at 0x7f47c535cc18>"
      ]
     },
     "execution_count": 14,
     "metadata": {},
     "output_type": "execute_result"
    }
   ],
   "source": [
    "from folium import plugins\n",
    "\n",
    "\n",
    "map_DaNang = folium.Map(location=[16.06778, 108.22083], zoom_start=14)\n",
    "\n",
    "def add_markers(df):\n",
    "    for (j, row) in df.iterrows():\n",
    "        label = folium.Popup(row[\"name\"], parse_html=True)\n",
    "        folium.CircleMarker(\n",
    "            [row[\"lat\"], row[\"lng\"]],\n",
    "            radius=5,\n",
    "            popup=label,\n",
    "            color='red',\n",
    "            fill=True,\n",
    "            fill_color='#3186cc',\n",
    "            fill_opacity=0.7,\n",
    "            parse_html=False).add_to(map_DaNang)\n",
    "\n",
    "add_markers(df)\n",
    "hm_data = df[[\"lat\", \"lng\"]].to_numpy().tolist()\n",
    "map_DaNang.add_child(plugins.HeatMap(hm_data))\n",
    "\n",
    "map_DaNang"
   ]
  },
  {
   "cell_type": "code",
   "execution_count": 15,
   "metadata": {},
   "outputs": [
    {
     "data": {
      "text/html": [
       "<div style=\"width:100%;\"><div style=\"position:relative;width:100%;height:0;padding-bottom:60%;\"><span style=\"color:#565656\">Make this Notebook Trusted to load map: File -> Trust Notebook</span><iframe src=\"about:blank\" style=\"position:absolute;width:100%;height:100%;left:0;top:0;border:none !important;\" data-html=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 onload=\"this.contentDocument.open();this.contentDocument.write(atob(this.getAttribute('data-html')));this.contentDocument.close();\" allowfullscreen webkitallowfullscreen mozallowfullscreen></iframe></div></div>"
      ],
      "text/plain": [
       "<folium.folium.Map at 0x7f47c535c470>"
      ]
     },
     "execution_count": 15,
     "metadata": {},
     "output_type": "execute_result"
    }
   ],
   "source": [
    "lat = 16.06778\n",
    "lng = 108.22083\n",
    "map_DaNang = folium.Map(location=[lat, lng], zoom_start=17)\n",
    "add_markers(df)\n",
    "folium.CircleMarker(\n",
    "    [lat, lng],\n",
    "    radius=15,\n",
    "    popup=\"O Day Roi!\",\n",
    "    color='green',\n",
    "    fill=True,\n",
    "    fill_color='#3186cc',\n",
    "    fill_opacity=0.7,\n",
    "    parse_html=False).add_to(map_DaNang)\n",
    "map_DaNang"
   ]
  },
  {
   "cell_type": "code",
   "execution_count": null,
   "metadata": {},
   "outputs": [],
   "source": []
  }
 ],
 "metadata": {
  "kernelspec": {
   "display_name": "Python",
   "language": "python",
   "name": "conda-env-python-py"
  },
  "language_info": {
   "codemirror_mode": {
    "name": "ipython",
    "version": 3
   },
   "file_extension": ".py",
   "mimetype": "text/x-python",
   "name": "python",
   "nbconvert_exporter": "python",
   "pygments_lexer": "ipython3",
   "version": "3.6.12"
  }
 },
 "nbformat": 4,
 "nbformat_minor": 4
}
